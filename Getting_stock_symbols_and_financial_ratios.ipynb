{
  "nbformat": 4,
  "nbformat_minor": 0,
  "metadata": {
    "colab": {
      "provenance": []
    },
    "kernelspec": {
      "name": "python3",
      "display_name": "Python 3"
    },
    "language_info": {
      "name": "python"
    }
  },
  "cells": [
    {
      "cell_type": "markdown",
      "source": [
        "# Installations and libraries"
      ],
      "metadata": {
        "id": "sq3hy8hyJzCA"
      }
    },
    {
      "cell_type": "code",
      "execution_count": 8,
      "metadata": {
        "id": "YM8FwK_5JpPf"
      },
      "outputs": [],
      "source": [
        "import pandas as pd\n",
        "import numpy as np\n",
        "import yfinance as yf\n",
        "from tqdm import tqdm"
      ]
    },
    {
      "cell_type": "markdown",
      "source": [
        "# Get financial PE ratio"
      ],
      "metadata": {
        "id": "01JIZUPHokGD"
      }
    },
    {
      "cell_type": "code",
      "source": [
        "ticker = 'AAPL'\n",
        "apple = yf.Ticker(ticker).info\n",
        "apple.get('trailingPE',np.NaN)"
      ],
      "metadata": {
        "colab": {
          "base_uri": "https://localhost:8080/"
        },
        "id": "217tL_guoo8p",
        "outputId": "0c674335-1887-4d66-c283-b6c78f59eeb4"
      },
      "execution_count": 7,
      "outputs": [
        {
          "output_type": "execute_result",
          "data": {
            "text/plain": [
              "28.414001"
            ]
          },
          "metadata": {},
          "execution_count": 7
        }
      ]
    },
    {
      "cell_type": "markdown",
      "source": [
        "# Function to get the stock symbols"
      ],
      "metadata": {
        "id": "xVLmvYwQJ15P"
      }
    },
    {
      "cell_type": "code",
      "source": [
        "urls = {'SP400':{'url':'https://en.wikipedia.org/wiki/List_of_S%26P_400_companies','idx':0},\n",
        "        'SP500':{'url':'https://en.wikipedia.org/wiki/List_of_S%26P_500_companies','idx':0},\n",
        "        'SP600':{'url':'https://en.wikipedia.org/wiki/List_of_S%26P_600_companies','idx':0},\n",
        "        'DJIA':{'url':'https://en.wikipedia.org/wiki/Dow_Jones_Industrial_Average#Components','idx':1},\n",
        "        'NASDAQ100':{'url':'https://en.wikipedia.org/wiki/Nasdaq-100#Components','idx':4},\n",
        "        'RUSSEL1000':{'url':'https://en.wikipedia.org/wiki/Russell_1000_Index','idx':2}}"
      ],
      "metadata": {
        "id": "kZXWkHzNJ4Cy"
      },
      "execution_count": 4,
      "outputs": []
    },
    {
      "cell_type": "code",
      "source": [
        "def get_stock_symbols(index_name,urls):\n",
        "\n",
        "  data = pd.read_html(urls[index_name]['url'])[urls[index_name]['idx']]\n",
        "  columns = ['Symbol','Ticker','Symbol']\n",
        "  for f in columns:\n",
        "\n",
        "    if f in data.columns:\n",
        "      break\n",
        "    else:\n",
        "      continue\n",
        "  data = data[f].to_list()\n",
        "\n",
        "  return data"
      ],
      "metadata": {
        "id": "MpatU3zsYeNT"
      },
      "execution_count": 5,
      "outputs": []
    },
    {
      "cell_type": "code",
      "source": [
        "get_stock_symbols('DJIA',urls)"
      ],
      "metadata": {
        "colab": {
          "base_uri": "https://localhost:8080/"
        },
        "id": "TLjxSyizZBHs",
        "outputId": "fbd189d6-0ae8-4b5a-988c-0e5dcabe894f"
      },
      "execution_count": 6,
      "outputs": [
        {
          "output_type": "execute_result",
          "data": {
            "text/plain": [
              "['MMM',\n",
              " 'AXP',\n",
              " 'AMGN',\n",
              " 'AAPL',\n",
              " 'BA',\n",
              " 'CAT',\n",
              " 'CVX',\n",
              " 'CSCO',\n",
              " 'KO',\n",
              " 'DIS',\n",
              " 'DOW',\n",
              " 'GS',\n",
              " 'HD',\n",
              " 'HON',\n",
              " 'IBM',\n",
              " 'INTC',\n",
              " 'JNJ',\n",
              " 'JPM',\n",
              " 'MCD',\n",
              " 'MRK',\n",
              " 'MSFT',\n",
              " 'NKE',\n",
              " 'PG',\n",
              " 'CRM',\n",
              " 'TRV',\n",
              " 'UNH',\n",
              " 'VZ',\n",
              " 'V',\n",
              " 'WBA',\n",
              " 'WMT']"
            ]
          },
          "metadata": {},
          "execution_count": 6
        }
      ]
    },
    {
      "cell_type": "markdown",
      "source": [
        "# Make a DataFrame of financial data"
      ],
      "metadata": {
        "id": "qGl08dT6pWHp"
      }
    },
    {
      "cell_type": "code",
      "source": [
        "index = get_stock_symbols('DJIA',urls)\n",
        "symbols = []\n",
        "rows = []\n",
        "for tick in tqdm(index):\n",
        "\n",
        "  try:\n",
        "    row = dict()\n",
        "    data = yf.Ticker(tick).info\n",
        "    row['trailingPE'] = data.get('trailingPE',np.NaN)\n",
        "    row['forwardPE'] = data.get('forwardPE',np.NaN)\n",
        "    rows.append(row)\n",
        "    symbols.append(tick)\n",
        "  except:\n",
        "    print(f'{tick} failed to download')\n",
        "    continue"
      ],
      "metadata": {
        "colab": {
          "base_uri": "https://localhost:8080/"
        },
        "id": "g5HF7lf1pZO4",
        "outputId": "7753de5b-7f48-4691-e424-d8d1420b3818"
      },
      "execution_count": 11,
      "outputs": [
        {
          "output_type": "stream",
          "name": "stderr",
          "text": [
            "100%|██████████| 30/30 [00:04<00:00,  6.19it/s]\n"
          ]
        }
      ]
    },
    {
      "cell_type": "code",
      "source": [
        "df = pd.DataFrame(rows,index = symbols)\n",
        "df"
      ],
      "metadata": {
        "colab": {
          "base_uri": "https://localhost:8080/",
          "height": 990
        },
        "id": "qdC0fTVXqSH7",
        "outputId": "ae748b1d-e600-419c-c954-ed4784e7320d"
      },
      "execution_count": 12,
      "outputs": [
        {
          "output_type": "execute_result",
          "data": {
            "text/plain": [
              "      trailingPE  forwardPE\n",
              "MMM    10.404959  10.524556\n",
              "AXP    17.654411  13.477947\n",
              "AMGN   15.439158  12.054671\n",
              "AAPL   31.640676  28.414001\n",
              "BA           NaN  39.808140\n",
              "CAT    17.340237  12.881318\n",
              "CVX     8.167836  10.517721\n",
              "CSCO   18.039427  12.457921\n",
              "KO     26.960354  21.779360\n",
              "DIS    39.330357  16.654064\n",
              "DOW    12.712872  11.092873\n",
              "GS     11.199644   8.255772\n",
              "HD     18.319733  18.930773\n",
              "HON    26.189790  19.810890\n",
              "IBM    57.781246  12.968938\n",
              "INTC         NaN  18.965517\n",
              "JNJ    34.691822  15.043636\n",
              "JPM    10.247232   9.924947\n",
              "MCD    31.139633  23.939720\n",
              "MRK    22.382812  13.466510\n",
              "MSFT   36.218376  30.595434\n",
              "NKE    31.561958  27.867683\n",
              "PG     25.864113  23.269592\n",
              "CRM   552.868400  23.395323\n",
              "TRV    14.797275  10.170960\n",
              "UNH    21.830664  17.047892\n",
              "VZ      6.908560   7.571428\n",
              "V      30.729586  23.471370\n",
              "WBA          NaN   6.652543\n",
              "WMT    37.550728  22.595930"
            ],
            "text/html": [
              "\n",
              "  <div id=\"df-fb65fa09-01d8-4e40-9b75-654bc288330e\">\n",
              "    <div class=\"colab-df-container\">\n",
              "      <div>\n",
              "<style scoped>\n",
              "    .dataframe tbody tr th:only-of-type {\n",
              "        vertical-align: middle;\n",
              "    }\n",
              "\n",
              "    .dataframe tbody tr th {\n",
              "        vertical-align: top;\n",
              "    }\n",
              "\n",
              "    .dataframe thead th {\n",
              "        text-align: right;\n",
              "    }\n",
              "</style>\n",
              "<table border=\"1\" class=\"dataframe\">\n",
              "  <thead>\n",
              "    <tr style=\"text-align: right;\">\n",
              "      <th></th>\n",
              "      <th>trailingPE</th>\n",
              "      <th>forwardPE</th>\n",
              "    </tr>\n",
              "  </thead>\n",
              "  <tbody>\n",
              "    <tr>\n",
              "      <th>MMM</th>\n",
              "      <td>10.404959</td>\n",
              "      <td>10.524556</td>\n",
              "    </tr>\n",
              "    <tr>\n",
              "      <th>AXP</th>\n",
              "      <td>17.654411</td>\n",
              "      <td>13.477947</td>\n",
              "    </tr>\n",
              "    <tr>\n",
              "      <th>AMGN</th>\n",
              "      <td>15.439158</td>\n",
              "      <td>12.054671</td>\n",
              "    </tr>\n",
              "    <tr>\n",
              "      <th>AAPL</th>\n",
              "      <td>31.640676</td>\n",
              "      <td>28.414001</td>\n",
              "    </tr>\n",
              "    <tr>\n",
              "      <th>BA</th>\n",
              "      <td>NaN</td>\n",
              "      <td>39.808140</td>\n",
              "    </tr>\n",
              "    <tr>\n",
              "      <th>CAT</th>\n",
              "      <td>17.340237</td>\n",
              "      <td>12.881318</td>\n",
              "    </tr>\n",
              "    <tr>\n",
              "      <th>CVX</th>\n",
              "      <td>8.167836</td>\n",
              "      <td>10.517721</td>\n",
              "    </tr>\n",
              "    <tr>\n",
              "      <th>CSCO</th>\n",
              "      <td>18.039427</td>\n",
              "      <td>12.457921</td>\n",
              "    </tr>\n",
              "    <tr>\n",
              "      <th>KO</th>\n",
              "      <td>26.960354</td>\n",
              "      <td>21.779360</td>\n",
              "    </tr>\n",
              "    <tr>\n",
              "      <th>DIS</th>\n",
              "      <td>39.330357</td>\n",
              "      <td>16.654064</td>\n",
              "    </tr>\n",
              "    <tr>\n",
              "      <th>DOW</th>\n",
              "      <td>12.712872</td>\n",
              "      <td>11.092873</td>\n",
              "    </tr>\n",
              "    <tr>\n",
              "      <th>GS</th>\n",
              "      <td>11.199644</td>\n",
              "      <td>8.255772</td>\n",
              "    </tr>\n",
              "    <tr>\n",
              "      <th>HD</th>\n",
              "      <td>18.319733</td>\n",
              "      <td>18.930773</td>\n",
              "    </tr>\n",
              "    <tr>\n",
              "      <th>HON</th>\n",
              "      <td>26.189790</td>\n",
              "      <td>19.810890</td>\n",
              "    </tr>\n",
              "    <tr>\n",
              "      <th>IBM</th>\n",
              "      <td>57.781246</td>\n",
              "      <td>12.968938</td>\n",
              "    </tr>\n",
              "    <tr>\n",
              "      <th>INTC</th>\n",
              "      <td>NaN</td>\n",
              "      <td>18.965517</td>\n",
              "    </tr>\n",
              "    <tr>\n",
              "      <th>JNJ</th>\n",
              "      <td>34.691822</td>\n",
              "      <td>15.043636</td>\n",
              "    </tr>\n",
              "    <tr>\n",
              "      <th>JPM</th>\n",
              "      <td>10.247232</td>\n",
              "      <td>9.924947</td>\n",
              "    </tr>\n",
              "    <tr>\n",
              "      <th>MCD</th>\n",
              "      <td>31.139633</td>\n",
              "      <td>23.939720</td>\n",
              "    </tr>\n",
              "    <tr>\n",
              "      <th>MRK</th>\n",
              "      <td>22.382812</td>\n",
              "      <td>13.466510</td>\n",
              "    </tr>\n",
              "    <tr>\n",
              "      <th>MSFT</th>\n",
              "      <td>36.218376</td>\n",
              "      <td>30.595434</td>\n",
              "    </tr>\n",
              "    <tr>\n",
              "      <th>NKE</th>\n",
              "      <td>31.561958</td>\n",
              "      <td>27.867683</td>\n",
              "    </tr>\n",
              "    <tr>\n",
              "      <th>PG</th>\n",
              "      <td>25.864113</td>\n",
              "      <td>23.269592</td>\n",
              "    </tr>\n",
              "    <tr>\n",
              "      <th>CRM</th>\n",
              "      <td>552.868400</td>\n",
              "      <td>23.395323</td>\n",
              "    </tr>\n",
              "    <tr>\n",
              "      <th>TRV</th>\n",
              "      <td>14.797275</td>\n",
              "      <td>10.170960</td>\n",
              "    </tr>\n",
              "    <tr>\n",
              "      <th>UNH</th>\n",
              "      <td>21.830664</td>\n",
              "      <td>17.047892</td>\n",
              "    </tr>\n",
              "    <tr>\n",
              "      <th>VZ</th>\n",
              "      <td>6.908560</td>\n",
              "      <td>7.571428</td>\n",
              "    </tr>\n",
              "    <tr>\n",
              "      <th>V</th>\n",
              "      <td>30.729586</td>\n",
              "      <td>23.471370</td>\n",
              "    </tr>\n",
              "    <tr>\n",
              "      <th>WBA</th>\n",
              "      <td>NaN</td>\n",
              "      <td>6.652543</td>\n",
              "    </tr>\n",
              "    <tr>\n",
              "      <th>WMT</th>\n",
              "      <td>37.550728</td>\n",
              "      <td>22.595930</td>\n",
              "    </tr>\n",
              "  </tbody>\n",
              "</table>\n",
              "</div>\n",
              "      <button class=\"colab-df-convert\" onclick=\"convertToInteractive('df-fb65fa09-01d8-4e40-9b75-654bc288330e')\"\n",
              "              title=\"Convert this dataframe to an interactive table.\"\n",
              "              style=\"display:none;\">\n",
              "        \n",
              "  <svg xmlns=\"http://www.w3.org/2000/svg\" height=\"24px\"viewBox=\"0 0 24 24\"\n",
              "       width=\"24px\">\n",
              "    <path d=\"M0 0h24v24H0V0z\" fill=\"none\"/>\n",
              "    <path d=\"M18.56 5.44l.94 2.06.94-2.06 2.06-.94-2.06-.94-.94-2.06-.94 2.06-2.06.94zm-11 1L8.5 8.5l.94-2.06 2.06-.94-2.06-.94L8.5 2.5l-.94 2.06-2.06.94zm10 10l.94 2.06.94-2.06 2.06-.94-2.06-.94-.94-2.06-.94 2.06-2.06.94z\"/><path d=\"M17.41 7.96l-1.37-1.37c-.4-.4-.92-.59-1.43-.59-.52 0-1.04.2-1.43.59L10.3 9.45l-7.72 7.72c-.78.78-.78 2.05 0 2.83L4 21.41c.39.39.9.59 1.41.59.51 0 1.02-.2 1.41-.59l7.78-7.78 2.81-2.81c.8-.78.8-2.07 0-2.86zM5.41 20L4 18.59l7.72-7.72 1.47 1.35L5.41 20z\"/>\n",
              "  </svg>\n",
              "      </button>\n",
              "      \n",
              "  <style>\n",
              "    .colab-df-container {\n",
              "      display:flex;\n",
              "      flex-wrap:wrap;\n",
              "      gap: 12px;\n",
              "    }\n",
              "\n",
              "    .colab-df-convert {\n",
              "      background-color: #E8F0FE;\n",
              "      border: none;\n",
              "      border-radius: 50%;\n",
              "      cursor: pointer;\n",
              "      display: none;\n",
              "      fill: #1967D2;\n",
              "      height: 32px;\n",
              "      padding: 0 0 0 0;\n",
              "      width: 32px;\n",
              "    }\n",
              "\n",
              "    .colab-df-convert:hover {\n",
              "      background-color: #E2EBFA;\n",
              "      box-shadow: 0px 1px 2px rgba(60, 64, 67, 0.3), 0px 1px 3px 1px rgba(60, 64, 67, 0.15);\n",
              "      fill: #174EA6;\n",
              "    }\n",
              "\n",
              "    [theme=dark] .colab-df-convert {\n",
              "      background-color: #3B4455;\n",
              "      fill: #D2E3FC;\n",
              "    }\n",
              "\n",
              "    [theme=dark] .colab-df-convert:hover {\n",
              "      background-color: #434B5C;\n",
              "      box-shadow: 0px 1px 3px 1px rgba(0, 0, 0, 0.15);\n",
              "      filter: drop-shadow(0px 1px 2px rgba(0, 0, 0, 0.3));\n",
              "      fill: #FFFFFF;\n",
              "    }\n",
              "  </style>\n",
              "\n",
              "      <script>\n",
              "        const buttonEl =\n",
              "          document.querySelector('#df-fb65fa09-01d8-4e40-9b75-654bc288330e button.colab-df-convert');\n",
              "        buttonEl.style.display =\n",
              "          google.colab.kernel.accessAllowed ? 'block' : 'none';\n",
              "\n",
              "        async function convertToInteractive(key) {\n",
              "          const element = document.querySelector('#df-fb65fa09-01d8-4e40-9b75-654bc288330e');\n",
              "          const dataTable =\n",
              "            await google.colab.kernel.invokeFunction('convertToInteractive',\n",
              "                                                     [key], {});\n",
              "          if (!dataTable) return;\n",
              "\n",
              "          const docLinkHtml = 'Like what you see? Visit the ' +\n",
              "            '<a target=\"_blank\" href=https://colab.research.google.com/notebooks/data_table.ipynb>data table notebook</a>'\n",
              "            + ' to learn more about interactive tables.';\n",
              "          element.innerHTML = '';\n",
              "          dataTable['output_type'] = 'display_data';\n",
              "          await google.colab.output.renderOutput(dataTable, element);\n",
              "          const docLink = document.createElement('div');\n",
              "          docLink.innerHTML = docLinkHtml;\n",
              "          element.appendChild(docLink);\n",
              "        }\n",
              "      </script>\n",
              "    </div>\n",
              "  </div>\n",
              "  "
            ]
          },
          "metadata": {},
          "execution_count": 12
        }
      ]
    },
    {
      "cell_type": "code",
      "source": [
        "df.to_csv('PE_ratios.csv')"
      ],
      "metadata": {
        "id": "Ami6zPfbq4DE"
      },
      "execution_count": 13,
      "outputs": []
    }
  ]
}
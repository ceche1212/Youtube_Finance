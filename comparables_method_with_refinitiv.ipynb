{
  "nbformat": 4,
  "nbformat_minor": 0,
  "metadata": {
    "colab": {
      "provenance": []
    },
    "kernelspec": {
      "name": "python3",
      "display_name": "Python 3"
    },
    "language_info": {
      "name": "python"
    }
  },
  "cells": [
    {
      "cell_type": "markdown",
      "source": [
        "# Importing & Installing libraries"
      ],
      "metadata": {
        "id": "WJ1JMRg6FGqz"
      }
    },
    {
      "cell_type": "code",
      "execution_count": null,
      "metadata": {
        "id": "KQKOwrwEC3q8"
      },
      "outputs": [],
      "source": [
        "!pip install refinitiv-data"
      ]
    },
    {
      "cell_type": "code",
      "source": [
        "import refinitiv.data as rd\n",
        "from refinitiv.data.content import pricing\n",
        "from refinitiv.data.content import symbol_conversion\n",
        "from refinitiv.data.discovery import Peers\n",
        "import pandas as pd\n",
        "import numpy as np\n",
        "import matplotlib.pyplot as plt\n",
        "from IPython.display import display\n",
        "from scipy import stats"
      ],
      "metadata": {
        "id": "4M699qXcFF0q"
      },
      "execution_count": null,
      "outputs": []
    },
    {
      "cell_type": "markdown",
      "source": [
        "# Stablishing the LSEG session"
      ],
      "metadata": {
        "id": "oazDxGOFE-zf"
      }
    },
    {
      "cell_type": "code",
      "source": [
        "rd.open_session(name='platform.rdp',\n",
        "                config_name=\"./refinitiv-data.config.json\")"
      ],
      "metadata": {
        "id": "aQt37yXNFDsC"
      },
      "execution_count": null,
      "outputs": []
    },
    {
      "cell_type": "markdown",
      "source": [
        "# Analist recomendations"
      ],
      "metadata": {
        "id": "plA-iBlmXLGF"
      }
    },
    {
      "cell_type": "code",
      "source": [
        "target_comp = ['APA.OQ']\n",
        "\n",
        "recommendations_analyst = rd.get_data(target_comp, 'TR.RecLabel();TR.NumOfRecommendations();TR.NumEstRevisingUp;TR.NumEstRevisingDown', {\n",
        "                  'WP': '30d', 'EstimateMeasure': 'EPS'})\n",
        "\n",
        "recommendations_analyst"
      ],
      "metadata": {
        "id": "bLLK9JpqXM8Z"
      },
      "execution_count": null,
      "outputs": []
    },
    {
      "cell_type": "code",
      "source": [
        "analyst_info = rd.get_data(target_comp, ['TR.EPSEstValue.date',\n",
        "                                         'TR.EPSEstValue',\n",
        "                                         'TR.EPSEstValue.brokername',\n",
        "                                         'TR.EPSEstValue.analystname'])\n",
        "analyst_info"
      ],
      "metadata": {
        "id": "6VCpOvc9g5BD"
      },
      "execution_count": null,
      "outputs": []
    },
    {
      "cell_type": "markdown",
      "source": [
        "# Getting Peers & comparables valuation"
      ],
      "metadata": {
        "id": "Z1p0Qwow8wNJ"
      }
    },
    {
      "cell_type": "code",
      "source": [
        "target_company = ['APA.OQ']\n",
        "comparables = ['FANG.OQ','DVN.N','MRO.N','COP.N','EOG.N']\n",
        "\n",
        "fields_target = ['TR.TickerSymbol','TR.CommonName','TR.PriceClose','TR.EBITDA','TR.PE','TR.EVToEBITDA','TR.RevenueActValue',\n",
        "                  'TR.EVToSales','TR.SharesOutstanding','TR.EPSActValue','TR.CompanyMarketCap',\n",
        "                  'TR.CashandSTInvestments','TR.F.DebtTot']\n",
        "\n",
        "data_target = rd.get_data(fields = fields_target,\n",
        "          universe=target_company)"
      ],
      "metadata": {
        "id": "u8Rd__pDq5FF"
      },
      "execution_count": null,
      "outputs": []
    },
    {
      "cell_type": "code",
      "source": [
        "data_target.columns"
      ],
      "metadata": {
        "id": "4R_w11O9rFHg"
      },
      "execution_count": null,
      "outputs": []
    },
    {
      "cell_type": "code",
      "source": [
        "def get_comparable_valuation(target_company,universe_comparables,drop_na = False,verbose = False):\n",
        "\n",
        "  fields_target = ['TR.TickerSymbol','TR.CommonName','TR.PriceClose','TR.EBITDA','TR.PE','TR.EVToEBITDA','TR.RevenueActValue',\n",
        "                   'TR.EVToSales','TR.SharesOutstanding','TR.EPSActValue','TR.CompanyMarketCap',\n",
        "                   'TR.CashandSTInvestments','TR.F.DebtTot']\n",
        "  fields_comparables = ['TR.TickerSymbol','TR.CommonName','TR.PE','TR.EVToEBITDA','TR.EVToSales']\n",
        "\n",
        "  data_target = rd.get_data(fields = fields_target,\n",
        "            universe=target_company)\n",
        "\n",
        "  data_comparables = rd.get_data(fields = fields_comparables,\n",
        "            universe=universe_comparables)\n",
        "\n",
        "  def correct_negative_ratios(x):\n",
        "    if pd.isna(x) or x<0:\n",
        "      return np.NaN\n",
        "    else:\n",
        "      return x\n",
        "\n",
        "  data_comparables['Enterprise Value To Sales (Daily Time Series Ratio)'] = data_comparables['Enterprise Value To Sales (Daily Time Series Ratio)'].apply(correct_negative_ratios)\n",
        "  data_comparables['Enterprise Value To EBITDA (Daily Time Series Ratio)'] = data_comparables['Enterprise Value To EBITDA (Daily Time Series Ratio)'].apply(correct_negative_ratios)\n",
        "  data_comparables['P/E (Daily Time Series Ratio)'] = data_comparables['P/E (Daily Time Series Ratio)'].apply(correct_negative_ratios)\n",
        "\n",
        "  revenue_target = data_target['Revenue - Actual'].values[0]\n",
        "  cash_target = data_target['Cash and Short Term Investments'].values[0]\n",
        "  debt_target = data_target['Debt - Total'].values[0]\n",
        "  shares_target = data_target['Outstanding Shares'].values[0]\n",
        "  ebitda_target = data_target['EBITDA'].values[0]\n",
        "  earnings_target = data_target['Earnings Per Share - Actual'].values[0]*shares_target\n",
        "  price_target =  data_target['Price Close'].values[0]\n",
        "  ticker_target = data_target['Ticker Symbol'].values[0]\n",
        "  name_target = data_target['Company Common Name'].values[0]\n",
        "\n",
        "  EV_REV_comp = data_comparables['Enterprise Value To Sales (Daily Time Series Ratio)']\n",
        "\n",
        "  implied_price_1 = (revenue_target*EV_REV_comp + cash_target - debt_target)/shares_target\n",
        "\n",
        "  EV_EBITDA_comp = data_comparables['Enterprise Value To EBITDA (Daily Time Series Ratio)']\n",
        "\n",
        "  implied_price_2 = (ebitda_target*EV_EBITDA_comp + cash_target - debt_target)/shares_target\n",
        "\n",
        "  implied_price_3 = (data_comparables['P/E (Daily Time Series Ratio)']*earnings_target)/shares_target\n",
        "\n",
        "\n",
        "  output = pd.DataFrame()\n",
        "  output['Comparables'] = universe_comparables\n",
        "  output['Ticker'] = data_comparables['Ticker Symbol']\n",
        "  output['Name'] = data_comparables['Company Common Name']\n",
        "  output['Price_EV/Sales'] = implied_price_1\n",
        "  output['Price_EV/EBITDA'] = implied_price_2\n",
        "  output['Price_PE'] = implied_price_3\n",
        "  output['target_close_price'] = price_target\n",
        "\n",
        "  output['Price_EV/Sales'] = output['Price_EV/Sales'].apply(correct_negative_ratios)\n",
        "  output['Price_EV/EBITDA'] = output['Price_EV/EBITDA'].apply(correct_negative_ratios)\n",
        "  output['Price_PE'] = output['Price_PE'].apply(correct_negative_ratios)\n",
        "\n",
        "  total_mean = np.mean(output[['Price_EV/Sales','Price_EV/EBITDA','Price_PE','target_close_price']].mean())\n",
        "\n",
        "  columns = output.columns\n",
        "\n",
        "  mean_prices = ['MEAN']*3 + output[['Price_EV/Sales','Price_EV/EBITDA','Price_PE','target_close_price']].mean().values.tolist()\n",
        "  output.loc[len(output)] = mean_prices\n",
        "  median_prices = ['MEDIAN']*3 + output[['Price_EV/Sales','Price_EV/EBITDA','Price_PE','target_close_price']].median().values.tolist()\n",
        "  output.loc[len(output)] = median_prices\n",
        "\n",
        "  if verbose:\n",
        "    print(f'- The mean implied price of {name_target} is equal to {total_mean:0.2f}')\n",
        "    print(f'- The current closing price of {name_target} is {price_target:0.2f}')\n",
        "\n",
        "    if price_target < total_mean:\n",
        "      print(f'- RECOMMENDATION: {name_target} is UNDERVALUED suggestion to BUY')\n",
        "    else:\n",
        "      print(f'- RECOMMENDATION: {name_target} is OVERVALUED suggestion to SELL')\n",
        "\n",
        "  return output"
      ],
      "metadata": {
        "id": "G48rnqlL8yCz"
      },
      "execution_count": null,
      "outputs": []
    },
    {
      "cell_type": "code",
      "source": [
        "target_comp = ['APA.OQ']\n",
        "comparables = ['FANG.OQ','DVN.N','MRO.N','COP.N','EOG.N']"
      ],
      "metadata": {
        "id": "VzX_ofSWFnId"
      },
      "execution_count": null,
      "outputs": []
    },
    {
      "cell_type": "code",
      "source": [
        "comparables = get_comparable_valuation(target_comp,comparables)"
      ],
      "metadata": {
        "id": "ihEkmW_TFlnl"
      },
      "execution_count": null,
      "outputs": []
    },
    {
      "cell_type": "code",
      "source": [
        "comparables"
      ],
      "metadata": {
        "id": "jjpvCYJ3WALR"
      },
      "execution_count": null,
      "outputs": []
    },
    {
      "cell_type": "markdown",
      "source": [
        "# Use the refinitiv Peer functionality"
      ],
      "metadata": {
        "id": "X8SHn6jHOsE9"
      }
    },
    {
      "cell_type": "code",
      "source": [
        "from pprint import pprint"
      ],
      "metadata": {
        "id": "2AQxOZIXpMJ_"
      },
      "execution_count": null,
      "outputs": []
    },
    {
      "cell_type": "code",
      "source": [
        "_peers = Peers('APA.OQ')\n",
        "_peers = [*_peers]"
      ],
      "metadata": {
        "id": "xBc3JiRKOlXW"
      },
      "execution_count": null,
      "outputs": []
    },
    {
      "cell_type": "code",
      "source": [
        "pprint(_peers,width=50,compact=True)"
      ],
      "metadata": {
        "id": "MNzJBCA2pKhp"
      },
      "execution_count": null,
      "outputs": []
    },
    {
      "cell_type": "code",
      "source": [
        "comparables_2 = get_comparable_valuation(target_comp,_peers)"
      ],
      "metadata": {
        "collapsed": true,
        "id": "AfBeXaEVO4wj"
      },
      "execution_count": null,
      "outputs": []
    },
    {
      "cell_type": "code",
      "source": [
        "comparables_2.tail(10)"
      ],
      "metadata": {
        "id": "X0Ucg6AJv97N"
      },
      "execution_count": null,
      "outputs": []
    }
  ]
}